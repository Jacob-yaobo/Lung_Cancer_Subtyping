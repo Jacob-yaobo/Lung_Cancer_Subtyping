{
 "cells": [
  {
   "cell_type": "code",
   "execution_count": 1,
   "id": "fbcb61b4",
   "metadata": {},
   "outputs": [],
   "source": [
    "%load_ext autoreload\n",
    "%autoreload 2"
   ]
  },
  {
   "cell_type": "code",
   "execution_count": 18,
   "id": "d57efc4f",
   "metadata": {},
   "outputs": [
    {
     "name": "stdout",
     "output_type": "stream",
     "text": [
      "库导入完成！\n",
      "PyTorch版本: 2.4.1\n",
      "CUDA可用: True\n",
      "CUDA设备数量: 1\n",
      "当前CUDA设备: 0\n",
      "设备名称: NVIDIA RTX A6000\n"
     ]
    }
   ],
   "source": [
    "# 导入必要的库\n",
    "import os\n",
    "import torch\n",
    "import torch.nn as nn\n",
    "import torch.optim as optim\n",
    "from torch.utils.data import DataLoader\n",
    "import numpy as np\n",
    "from tqdm import tqdm\n",
    "import yaml\n",
    "from sklearn.metrics import accuracy_score, classification_report, confusion_matrix\n",
    "import matplotlib.pyplot as plt\n",
    "import seaborn as sns\n",
    "\n",
    "# 导入自定义模块\n",
    "from dataset import LungCancerDataset, load_config, create_dataloaders\n",
    "from model_classification import ResNetClassifier, resnet18_classifier\n",
    "\n",
    "print(\"库导入完成！\")\n",
    "print(f\"PyTorch版本: {torch.__version__}\")\n",
    "print(f\"CUDA可用: {torch.cuda.is_available()}\")\n",
    "if torch.cuda.is_available():\n",
    "    print(f\"CUDA设备数量: {torch.cuda.device_count()}\")\n",
    "    print(f\"当前CUDA设备: {torch.cuda.current_device()}\")\n",
    "    print(f\"设备名称: {torch.cuda.get_device_name()}\")"
   ]
  },
  {
   "cell_type": "code",
   "execution_count": 19,
   "id": "4491a355",
   "metadata": {},
   "outputs": [
    {
     "name": "stdout",
     "output_type": "stream",
     "text": [
      "成功加载配置文件: config.yaml\n",
      "使用设备: cuda\n",
      "实验名称: baseline_pet_2class\n",
      "任务: ADC_vs_SCC\n",
      "模态: ['PET']\n",
      "配置文件的键: ['experiment', 'paths', 'data', 'model', 'training', 'dataloader']\n",
      "model配置: {'architecture': 'resnet18', 'num_classes': 2, 'dropout_rate': 0.5, 'pretrained_path': None}\n",
      "模型架构: resnet18\n",
      "类别数: 2\n"
     ]
    }
   ],
   "source": [
    "# 加载配置文件\n",
    "config = load_config(\"config.yaml\")\n",
    "\n",
    "# 设置设备\n",
    "device = torch.device(\"cuda\" if torch.cuda.is_available() else \"cpu\")\n",
    "print(f\"使用设备: {device}\")\n",
    "\n",
    "# 设置随机种子\n",
    "torch.manual_seed(config[\"experiment\"][\"seed\"])\n",
    "if torch.cuda.is_available():\n",
    "    torch.cuda.manual_seed(config[\"experiment\"][\"seed\"])\n",
    "np.random.seed(config[\"experiment\"][\"seed\"])\n",
    "\n",
    "print(f\"实验名称: {config['experiment']['name']}\")\n",
    "print(f\"任务: {config['data']['task_name']}\")\n",
    "print(f\"模态: {config['data']['modalities']}\")\n",
    "\n",
    "# 调试配置文件结构\n",
    "print(\"配置文件的键:\", list(config.keys()))\n",
    "print(\"model配置:\", config.get(\"model\", \"model键不存在\"))\n",
    "\n",
    "# 安全地获取model配置\n",
    "model_config = config.get(\"model\", {})\n",
    "if model_config:\n",
    "    print(f\"模型架构: {model_config.get('architecture', '未设置')}\")\n",
    "    print(f\"类别数: {model_config.get('num_classes', '未设置')}\")\n",
    "else:\n",
    "    print(\"警告: 未找到model配置，将使用默认值\")\n",
    "    config[\"model\"] = {\n",
    "        \"architecture\": \"resnet18\",\n",
    "        \"num_classes\": 2,\n",
    "        \"dropout_rate\": 0.5,\n",
    "        \"pretrained_path\": None\n",
    "    }"
   ]
  },
  {
   "cell_type": "code",
   "execution_count": 22,
   "id": "e3b22a06",
   "metadata": {},
   "outputs": [
    {
     "name": "stdout",
     "output_type": "stream",
     "text": [
      "创建数据加载器...\n",
      "初始化 train 数据集:\n",
      "- 任务: ADC_vs_SCC\n",
      "- Fold: fold_0\n",
      "- 包含标签: ['ADC', 'SCC']\n",
      "- 样本数量: 724\n",
      "- 数据增强: 启用\n",
      "初始化 val 数据集:\n",
      "- 任务: ADC_vs_SCC\n",
      "- Fold: fold_0\n",
      "- 包含标签: ['ADC', 'SCC']\n",
      "- 样本数量: 181\n",
      "- 数据增强: 禁用\n",
      "\n",
      "📊 数据集类别分布统计:\n",
      "==================================================\n",
      "任务: ADC_vs_SCC\n",
      "标签映射: {'ADC': 0, 'SCC': 1}\n"
     ]
    }
   ],
   "source": [
    "# 创建数据加载器\n",
    "print(\"创建数据加载器...\")\n",
    "train_loader, val_loader = create_dataloaders(config)\n",
    "\n",
    "# 获取训练集和验证集的数据集对象，用于统计类别分布\n",
    "train_dataset = train_loader.dataset\n",
    "val_dataset = val_loader.dataset\n",
    "\n",
    "# 输出每个类别的样本量\n",
    "print(\"\\n📊 数据集类别分布统计:\")\n",
    "print(\"=\" * 50)\n",
    "\n",
    "# 获取任务的标签映射信息\n",
    "task_config = train_dataset.task_config\n",
    "label_map = task_config[\"label_map\"]\n",
    "labels_to_include = task_config[\"labels_to_include\"]\n",
    "\n",
    "print(f\"任务: {config['data']['task_name']}\")\n",
    "print(f\"标签映射: {label_map}\")"
   ]
  },
  {
   "cell_type": "code",
   "execution_count": 26,
   "id": "484cab44",
   "metadata": {},
   "outputs": [
    {
     "name": "stdout",
     "output_type": "stream",
     "text": [
      "\n",
      " 训练集类别分布:\n",
      "  SCC (标签 1):  265 样本 ( 36.6%)\n",
      "  ADC (标签 0):  459 样本 ( 63.4%)\n",
      "  总计: 724 样本\n",
      "\n",
      " 验证集类别分布:\n",
      "  SCC (标签 1):   66 样本 ( 36.5%)\n",
      "  ADC (标签 0):  115 样本 ( 63.5%)\n",
      "  总计: 181 样本\n",
      "\n",
      "整体统计:\n",
      "  训练集: 724 样本\n",
      "  验证集: 181 样本\n",
      "  总计: 905 样本\n",
      "\n",
      "类别平衡性分析:\n",
      "  ADC (标签 0): 训练 80.0% | 验证 20.0%\n",
      "  SCC (标签 1): 训练 80.1% | 验证 19.9%\n"
     ]
    }
   ],
   "source": [
    "# 数据集检查工具 - 获取训练集标签分布\n",
    "train_label_dist = train_dataset._get_label_distribution()\n",
    "print(f\"\\n 训练集类别分布:\")\n",
    "total_train = sum(train_label_dist.values())\n",
    "for pathology, count in train_label_dist.items():\n",
    "    mapped_label = label_map.get(pathology, \"未知\")\n",
    "    percentage = (count / total_train) * 100 if total_train > 0 else 0\n",
    "    print(f\"  {pathology} (标签 {mapped_label}): {count:4d} 样本 ({percentage:5.1f}%)\")\n",
    "print(f\"  总计: {total_train} 样本\")\n",
    "\n",
    "# 获取验证集标签分布\n",
    "val_label_dist = val_dataset._get_label_distribution()\n",
    "print(f\"\\n 验证集类别分布:\")\n",
    "total_val = sum(val_label_dist.values())\n",
    "for pathology, count in val_label_dist.items():\n",
    "    mapped_label = label_map.get(pathology, \"未知\")\n",
    "    percentage = (count / total_val) * 100 if total_val > 0 else 0\n",
    "    print(f\"  {pathology} (标签 {mapped_label}): {count:4d} 样本 ({percentage:5.1f}%)\")\n",
    "print(f\"  总计: {total_val} 样本\")\n",
    "\n",
    "# 整体统计\n",
    "print(f\"\\n整体统计:\")\n",
    "print(f\"  训练集: {total_train} 样本\")\n",
    "print(f\"  验证集: {total_val} 样本\")\n",
    "print(f\"  总计: {total_train + total_val} 样本\")\n",
    "\n",
    "# 类别平衡性分析\n",
    "print(f\"\\n类别平衡性分析:\")\n",
    "for pathology in labels_to_include:\n",
    "    train_count = train_label_dist.get(pathology, 0)\n",
    "    val_count = val_label_dist.get(pathology, 0)\n",
    "    total_count = train_count + val_count\n",
    "    train_ratio = (train_count / total_count) * 100 if total_count > 0 else 0\n",
    "    val_ratio = (val_count / total_count) * 100 if total_count > 0 else 0\n",
    "    mapped_label = label_map.get(pathology, \"未知\")\n",
    "    print(f\"  {pathology} (标签 {mapped_label}): 训练 {train_ratio:.1f}% | 验证 {val_ratio:.1f}%\")\n"
   ]
  },
  {
   "cell_type": "code",
   "execution_count": 51,
   "id": "5f5bd784",
   "metadata": {},
   "outputs": [
    {
     "name": "stdout",
     "output_type": "stream",
     "text": [
      "{'SCC': 265, 'ADC': 459}\n"
     ]
    }
   ],
   "source": [
    "train_label_dist = train_dataset._get_label_distribution()\n",
    "print(train_label_dist)"
   ]
  },
  {
   "cell_type": "code",
   "execution_count": 40,
   "id": "a75a5ce4",
   "metadata": {},
   "outputs": [
    {
     "name": "stdout",
     "output_type": "stream",
     "text": [
      "🔍 3D Data Slice Visualization\n",
      "========================================\n"
     ]
    },
    {
     "name": "stdout",
     "output_type": "stream",
     "text": [
      "\n",
      "📊 Train Dataset (Batch shape: torch.Size([8, 1, 128, 64, 96]))\n",
      "  Sample 1 (Label: 0): Shape torch.Size([128, 64, 96]), Range[0.00, 0.95], Mean 0.03, Std 0.03\n"
     ]
    },
    {
     "data": {
      "image/png": "[encoded data removed]",
      "text/plain": [
       "<Figure size 1200x300 with 3 Axes>"
      ]
     },
     "metadata": {},
     "output_type": "display_data"
    },
    {
     "name": "stdout",
     "output_type": "stream",
     "text": [
      "  Sample 2 (Label: 1): Shape torch.Size([128, 64, 96]), Range[0.00, 0.36], Mean 0.01, Std 0.02\n"
     ]
    },
    {
     "data": {
      "image/png": "[encoded data removed]",
      "text/plain": [
       "<Figure size 1200x300 with 3 Axes>"
      ]
     },
     "metadata": {},
     "output_type": "display_data"
    },
    {
     "name": "stdout",
     "output_type": "stream",
     "text": [
      "\n",
      "📊 Validation Dataset (Batch shape: torch.Size([8, 1, 128, 64, 96]))\n",
      "  Sample 1 (Label: 1): Shape torch.Size([128, 64, 96]), Range[0.00, 0.38], Mean 0.01, Std 0.01\n"
     ]
    },
    {
     "data": {
      "image/png": "[encoded data removed]",
      "text/plain": [
       "<Figure size 1200x300 with 3 Axes>"
      ]
     },
     "metadata": {},
     "output_type": "display_data"
    },
    {
     "name": "stdout",
     "output_type": "stream",
     "text": [
      "  Sample 2 (Label: 0): Shape torch.Size([128, 64, 96]), Range[0.00, 1.00], Mean 0.02, Std 0.03\n"
     ]
    },
    {
     "data": {
      "image/png": "[encoded data removed]",
      "text/plain": [
       "<Figure size 1200x300 with 3 Axes>"
      ]
     },
     "metadata": {},
     "output_type": "display_data"
    },
    {
     "name": "stdout",
     "output_type": "stream",
     "text": [
      "\n",
      "✅ Visualization Complete\n"
     ]
    }
   ],
   "source": [
    "# 3D Data Slice Visualization - Simplified Version\n",
    "import matplotlib.pyplot as plt\n",
    "import numpy as np\n",
    "import torch\n",
    "\n",
    "# Set matplotlib to handle Chinese characters properly (if needed) or use English\n",
    "plt.rcParams['font.sans-serif'] = ['DejaVu Sans']  # Use default font\n",
    "plt.rcParams['axes.unicode_minus'] = False\n",
    "\n",
    "# Configuration parameters\n",
    "slice_indices = [47, 63, 95]\n",
    "num_samples = 2  # Extract 2 samples from each dataset\n",
    "\n",
    "print(\"🔍 3D Data Slice Visualization\")\n",
    "print(\"=\" * 40)\n",
    "\n",
    "# Get data batches\n",
    "train_batch = next(iter(train_loader))\n",
    "val_batch = next(iter(val_loader))\n",
    "\n",
    "datasets = [\n",
    "    (\"Train\", train_batch),\n",
    "    (\"Validation\", val_batch)\n",
    "]\n",
    "\n",
    "for dataset_name, (data_batch, label_batch) in datasets:\n",
    "    print(f\"\\n📊 {dataset_name} Dataset (Batch shape: {data_batch.shape})\")\n",
    "    \n",
    "    for sample_idx in range(min(num_samples, data_batch.shape[0])):\n",
    "        # Get sample data and label\n",
    "        sample_data = data_batch[sample_idx]  # Shape: [C, D, H, W]\n",
    "        sample_label = label_batch[sample_idx].item()\n",
    "        \n",
    "        # Get the first channel's volume data [D, H, W]\n",
    "        volume = sample_data[0] if len(sample_data.shape) == 4 else sample_data\n",
    "        \n",
    "        # Data statistics\n",
    "        print(f\"  Sample {sample_idx + 1} (Label: {sample_label}): \"\n",
    "              f\"Shape {volume.shape}, Range[{volume.min():.2f}, {volume.max():.2f}], \"\n",
    "              f\"Mean {volume.mean():.2f}, Std {volume.std():.2f}\")\n",
    "        \n",
    "        # Check if slices are valid (slice from D dimension - first dimension in [D, H, W])\n",
    "        depth_size = volume.shape[0]  # D dimension is the first one [D, H, W]\n",
    "        valid_slices = [s for s in slice_indices if 0 <= s < depth_size]\n",
    "        \n",
    "        if len(valid_slices) == 0:\n",
    "            print(f\"    Warning: No valid slices for depth {depth_size}\")\n",
    "            continue\n",
    "        \n",
    "        # Visualization with normalized [0, 1] color scale\n",
    "        fig, axes = plt.subplots(1, len(valid_slices), figsize=(12, 3))\n",
    "        if len(valid_slices) == 1:\n",
    "            axes = [axes]\n",
    "        \n",
    "        for i, slice_idx in enumerate(valid_slices):\n",
    "            # Slice from D dimension: volume[slice_idx, :, :] gives [H, W]\n",
    "            slice_data = volume[slice_idx, :, :]\n",
    "            if isinstance(slice_data, torch.Tensor):\n",
    "                slice_data = slice_data.cpu().numpy()\n",
    "            \n",
    "            # Use normalized [0, 1] color scale\n",
    "            im = axes[i].imshow(slice_data, cmap='hot', vmin=0.0, vmax=0.5)\n",
    "            axes[i].set_title(f'Slice {slice_idx}')\n",
    "            axes[i].axis('off')\n",
    "            \n",
    "            # Add statistics information\n",
    "            axes[i].text(0.02, 0.98, \n",
    "                        f'Min: {slice_data.min():.2f}\\nMax: {slice_data.max():.2f}\\nMean: {slice_data.mean():.2f}', \n",
    "                        transform=axes[i].transAxes, fontsize=8, \n",
    "                        verticalalignment='top',\n",
    "                        bbox=dict(boxstyle='round', facecolor='white', alpha=0.8))\n",
    "        \n",
    "        plt.suptitle(f'{dataset_name} Dataset - Sample {sample_idx + 1} (Label: {sample_label})', fontsize=12)\n",
    "        plt.tight_layout()\n",
    "        plt.show()\n",
    "\n",
    "print(\"\\n✅ Visualization Complete\")"
   ]
  },
  {
   "cell_type": "code",
   "execution_count": 41,
   "id": "0690a9d2",
   "metadata": {},
   "outputs": [
    {
     "name": "stdout",
     "output_type": "stream",
     "text": [
      "创建模型...\n"
     ]
    },
    {
     "name": "stdout",
     "output_type": "stream",
     "text": [
      "模型架构: resnet18\n",
      "输入通道数: 1\n",
      "输出类别数: 2\n",
      "总参数数: 33,161,026\n",
      "可训练参数数: 33,161,026\n"
     ]
    }
   ],
   "source": [
    "# 创建模型\n",
    "print(\"创建模型...\")\n",
    "in_channels = len(config[\"data\"][\"modalities\"])  # 根据模态数量确定输入通道数\n",
    "num_classes = config[\"model\"][\"num_classes\"]\n",
    "architecture = config[\"model\"][\"architecture\"]\n",
    "\n",
    "# 根据配置选择模型架构\n",
    "if architecture == \"resnet18\":\n",
    "    model = resnet18_classifier(\n",
    "        in_channels=in_channels,\n",
    "        num_classes=num_classes,\n",
    "        dropout_rate=config[\"model\"][\"dropout_rate\"]\n",
    "    )\n",
    "elif architecture == \"resnet10\":\n",
    "    from model_classification import resnet10_classifier\n",
    "    model = resnet10_classifier(\n",
    "        in_channels=in_channels,\n",
    "        num_classes=num_classes,\n",
    "        dropout_rate=config[\"model\"][\"dropout_rate\"]\n",
    "    )\n",
    "elif architecture == \"resnet34\":\n",
    "    from model_classification import resnet34_classifier\n",
    "    model = resnet34_classifier(\n",
    "        in_channels=in_channels,\n",
    "        num_classes=num_classes,\n",
    "        dropout_rate=config[\"model\"][\"dropout_rate\"]\n",
    "    )\n",
    "else:\n",
    "    raise ValueError(f\"不支持的模型架构: {architecture}\")\n",
    "\n",
    "# 将模型移至设备\n",
    "model = model.to(device)\n",
    "\n",
    "# 打印模型信息\n",
    "print(f\"模型架构: {architecture}\")\n",
    "print(f\"输入通道数: {in_channels}\")\n",
    "print(f\"输出类别数: {num_classes}\")\n",
    "\n",
    "# 计算模型参数数量\n",
    "total_params = sum(p.numel() for p in model.parameters())\n",
    "trainable_params = sum(p.numel() for p in model.parameters() if p.requires_grad)\n",
    "print(f\"总参数数: {total_params:,}\")\n",
    "print(f\"可训练参数数: {trainable_params:,}\")"
   ]
  },
  {
   "cell_type": "code",
   "execution_count": 64,
   "id": "6fe6055a",
   "metadata": {},
   "outputs": [
    {
     "name": "stdout",
     "output_type": "stream",
     "text": [
      "损失函数设置\n",
      " - 训练集标签分布: {'SCC': 265, 'ADC': 459}\n",
      " - 标签映射: {'ADC': 0, 'SCC': 1}\n",
      " - 按类别索引排序的样本数量: [459, 265]\n",
      " - 类别权重: ['0.789', '1.366']\n",
      " - 权重比例: 1.732:1 (Class 1:Class 0)\n",
      " - 损失函数: 加权交叉熵 (权重: ['0.789', '1.366'])\n",
      "优化器设置\n",
      " - weight decay=0.1\n",
      "学习率调度器设置\n",
      "  - Warmup epochs: 5\n",
      "  - 初始学习率: 0.0001\n",
      "  - 最小学习率: 1.0000000000000002e-06\n"
     ]
    }
   ],
   "source": [
    "# 定义损失函数和优化器\n",
    "# 计算类别权重以处理类别不平衡\n",
    "\n",
    "print('损失函数设置')\n",
    "# 获取训练集标签分布\n",
    "train_label_dist = train_dataset._get_label_distribution()\n",
    "print(f\" - 训练集标签分布: {train_label_dist}\")\n",
    "print(f\" - 标签映射: {label_map}\")\n",
    "\n",
    "# 使用label_map将病理类型转换为类别索引对应的数量\n",
    "num_classes = len(label_map)\n",
    "train_label_counts = [0] * num_classes\n",
    "\n",
    "for pathology, count in train_label_dist.items():\n",
    "    class_idx = label_map[pathology]\n",
    "    train_label_counts[class_idx] = count\n",
    "\n",
    "print(f\" - 按类别索引排序的样本数量: {train_label_counts}\")\n",
    "\n",
    "# 计算类别权重\n",
    "total_samples = sum(train_label_counts)\n",
    "class_weights = [total_samples / (num_classes * count) for count in train_label_counts]\n",
    "\n",
    "# 转换为张量\n",
    "class_weights_tensor = torch.FloatTensor(class_weights).to(device)\n",
    "\n",
    "print(f\" - 类别权重: {[f'{w:.3f}' for w in class_weights]}\")\n",
    "print(f\" - 权重比例: {class_weights[1]/class_weights[0]:.3f}:1 (Class 1:Class 0)\")\n",
    "\n",
    "# 使用加权交叉熵损失\n",
    "criterion = nn.CrossEntropyLoss(weight=class_weights_tensor)\n",
    "print(f\" - 损失函数: 加权交叉熵 (权重: {[f'{w:.3f}' for w in class_weights]})\")\n",
    "\n",
    "\n",
    "print('优化器设置')\n",
    "optimizer = optim.AdamW(\n",
    "    model.parameters(),\n",
    "    lr=config[\"training\"][\"learning_rate\"],\n",
    "    weight_decay=config[\"training\"][\"weight_decay\"]\n",
    ")\n",
    "print(f' - weight decay={config[\"training\"][\"weight_decay\"]}')\n",
    "\n",
    "\n",
    "print('学习率调度器设置')\n",
    "# 带warmup的余弦退火学习率调度器\n",
    "num_epochs = config[\"training\"][\"num_epochs\"]\n",
    "warmup_epochs = 5  # warmup阶段的epoch数\n",
    "total_steps = len(train_loader) * num_epochs\n",
    "warmup_steps = len(train_loader) * warmup_epochs\n",
    "\n",
    "# 使用CosineAnnealingWarmRestarts和线性warmup的组合\n",
    "from torch.optim.lr_scheduler import CosineAnnealingLR, LinearLR, SequentialLR\n",
    "\n",
    "# 创建warmup调度器 (线性增长)\n",
    "warmup_scheduler = LinearLR(\n",
    "    optimizer, \n",
    "    start_factor=0.1,  # 从10%的学习率开始\n",
    "    end_factor=1.0,    # 增长到100%的学习率\n",
    "    total_iters=warmup_epochs\n",
    ")\n",
    "\n",
    "# 创建余弦退火调度器\n",
    "cosine_scheduler = CosineAnnealingLR(\n",
    "    optimizer,\n",
    "    T_max=num_epochs - warmup_epochs,  # 余弦退火的周期长度\n",
    "    eta_min=config[\"training\"][\"learning_rate\"] * 0.01  # 最小学习率为初始学习率的1%\n",
    ")\n",
    "\n",
    "# 组合调度器：先warmup，后余弦退火\n",
    "scheduler = SequentialLR(\n",
    "    optimizer,\n",
    "    schedulers=[warmup_scheduler, cosine_scheduler],\n",
    "    milestones=[warmup_epochs]\n",
    ")\n",
    "\n",
    "print(f\"  - Warmup epochs: {warmup_epochs}\")\n",
    "print(f\"  - 初始学习率: {config['training']['learning_rate']}\")\n",
    "print(f\"  - 最小学习率: {config['training']['learning_rate'] * 0.01}\")"
   ]
  },
  {
   "cell_type": "code",
   "execution_count": 65,
   "id": "13c6bfa0",
   "metadata": {},
   "outputs": [
    {
     "name": "stdout",
     "output_type": "stream",
     "text": [
      "Training and validation functions defined with AUC-only tracking and gradient detachment\n"
     ]
    }
   ],
   "source": [
    "# Define training function - only return loss and AUC\n",
    "def train_epoch(model, train_loader, criterion, optimizer, device):\n",
    "    model.train()\n",
    "    running_loss = 0.0\n",
    "    all_preds = []\n",
    "    all_targets = []\n",
    "    all_probs = []\n",
    "    \n",
    "    with tqdm(train_loader, desc=\"Training\") as pbar:\n",
    "        for batch_idx, (data, targets) in enumerate(pbar):\n",
    "            data, targets = data.to(device), targets.to(device)\n",
    "            \n",
    "            # Forward pass\n",
    "            optimizer.zero_grad()\n",
    "            outputs = model(data)\n",
    "            loss = criterion(outputs, targets)\n",
    "            \n",
    "            # Backward pass\n",
    "            loss.backward()\n",
    "            optimizer.step()\n",
    "            \n",
    "            # Statistics for AUC calculation - 添加 detach() 分离梯度\n",
    "            running_loss += loss.item()\n",
    "            probs = torch.softmax(outputs, dim=1)\n",
    "            _, predicted = outputs.max(1)\n",
    "            \n",
    "            # Save predictions for AUC calculation - 使用 detach() 分离梯度\n",
    "            all_preds.extend(predicted.detach().cpu().numpy())\n",
    "            all_targets.extend(targets.detach().cpu().numpy())\n",
    "            all_probs.extend(probs.detach().cpu().numpy())\n",
    "            \n",
    "            # Update progress bar\n",
    "            pbar.set_postfix({\n",
    "                'Loss': f'{running_loss/(batch_idx+1):.4f}'\n",
    "            })\n",
    "    \n",
    "    epoch_loss = running_loss / len(train_loader)\n",
    "    \n",
    "    # Calculate training AUC\n",
    "    from sklearn.metrics import roc_auc_score\n",
    "    all_probs = np.array(all_probs)\n",
    "    all_targets = np.array(all_targets)\n",
    "    \n",
    "    if len(np.unique(all_targets)) == 2:\n",
    "        # Binary classification - use probability of positive class\n",
    "        y_scores = all_probs[:, 1]\n",
    "        train_auc = roc_auc_score(all_targets, y_scores)\n",
    "    else:\n",
    "        # Multi-class classification - use macro average\n",
    "        train_auc = roc_auc_score(all_targets, all_probs, multi_class='ovr', average='macro')\n",
    "    \n",
    "    return epoch_loss, train_auc\n",
    "\n",
    "# Define validation function with ROC AUC calculation\n",
    "def validate_epoch(model, val_loader, criterion, device):\n",
    "    model.eval()\n",
    "    running_loss = 0.0\n",
    "    all_preds = []\n",
    "    all_targets = []\n",
    "    all_probs = []\n",
    "    \n",
    "    with torch.no_grad():\n",
    "        with tqdm(val_loader, desc=\"Validation\") as pbar:\n",
    "            for batch_idx, (data, targets) in enumerate(pbar):\n",
    "                data, targets = data.to(device), targets.to(device)\n",
    "                \n",
    "                outputs = model(data)\n",
    "                loss = criterion(outputs, targets)\n",
    "                \n",
    "                # 获取预测概率和预测类别\n",
    "                probs = torch.softmax(outputs, dim=1)\n",
    "                _, predicted = outputs.max(1)\n",
    "                \n",
    "                running_loss += loss.item()\n",
    "                \n",
    "                # Save predictions and probabilities for detailed analysis\n",
    "                # 在 torch.no_grad() 上下文中，不需要 detach()，但保持一致性\n",
    "                all_preds.extend(predicted.cpu().numpy())\n",
    "                all_targets.extend(targets.cpu().numpy())\n",
    "                all_probs.extend(probs.cpu().numpy())\n",
    "                \n",
    "                pbar.set_postfix({\n",
    "                    'Loss': f'{running_loss/(batch_idx+1):.4f}'\n",
    "                })\n",
    "    \n",
    "    epoch_loss = running_loss / len(val_loader)\n",
    "    \n",
    "    # Calculate ROC AUC\n",
    "    from sklearn.metrics import roc_auc_score\n",
    "    all_probs = np.array(all_probs)\n",
    "    all_targets = np.array(all_targets)\n",
    "    \n",
    "    if len(np.unique(all_targets)) == 2:\n",
    "        # Binary classification - use probability of positive class\n",
    "        y_scores = all_probs[:, 1]\n",
    "        val_auc = roc_auc_score(all_targets, y_scores)\n",
    "    else:\n",
    "        # Multi-class classification - use macro average\n",
    "        val_auc = roc_auc_score(all_targets, all_probs, multi_class='ovr', average='macro')\n",
    "    \n",
    "    return epoch_loss, val_auc, all_preds, all_targets, all_probs\n",
    "\n",
    "print(\"Training and validation functions defined with AUC-only tracking and gradient detachment\")"
   ]
  },
  {
   "cell_type": "code",
   "execution_count": 66,
   "id": "815ce8b3",
   "metadata": {},
   "outputs": [
    {
     "name": "stdout",
     "output_type": "stream",
     "text": [
      "开始训练，共 50 个epoch\n",
      "输出目录: training_results/baseline_pet_2class\n",
      "早停监控指标: ROC AUC (patience=20)\n",
      "------------------------------------------------------------\n",
      "\n",
      "Epoch 1/50\n"
     ]
    },
    {
     "name": "stderr",
     "output_type": "stream",
     "text": [
      "Training:   0%|          | 0/90 [00:00<?, ?it/s]"
     ]
    },
    {
     "name": "stderr",
     "output_type": "stream",
     "text": [
      "Training: 100%|██████████| 90/90 [00:29<00:00,  3.06it/s, Loss=0.1201]\n",
      "Training: 100%|██████████| 90/90 [00:29<00:00,  3.06it/s, Loss=0.1201]\n",
      "Validation: 100%|██████████| 23/23 [00:03<00:00,  6.64it/s, Loss=0.8275]\n",
      "\n"
     ]
    },
    {
     "name": "stdout",
     "output_type": "stream",
     "text": [
      "Training   - Loss: 0.1201, AUC: 0.9910\n",
      "Validation - Loss: 0.8275, AUC: 0.7582\n",
      "Learning Rate: 1.00e-05 → 2.80e-05 (已调整)\n",
      "🏆 Best Model！Validation AUC: 0.7582, 训练AUC: 0.9910\n",
      "\n",
      "Epoch 2/50\n",
      "🏆 Best Model！Validation AUC: 0.7582, 训练AUC: 0.9910\n",
      "\n",
      "Epoch 2/50\n"
     ]
    },
    {
     "name": "stderr",
     "output_type": "stream",
     "text": [
      "Training: 100%|██████████| 90/90 [00:27<00:00,  3.23it/s, Loss=0.1458]\n",
      "Training: 100%|██████████| 90/90 [00:27<00:00,  3.23it/s, Loss=0.1458]\n",
      "Validation: 100%|██████████| 23/23 [00:03<00:00,  7.43it/s, Loss=0.8889]\n",
      "Validation: 100%|██████████| 23/23 [00:03<00:00,  7.43it/s, Loss=0.8889]\n"
     ]
    },
    {
     "name": "stdout",
     "output_type": "stream",
     "text": [
      "Training   - Loss: 0.1458, AUC: 0.9889\n",
      "Validation - Loss: 0.8889, AUC: 0.7311\n",
      "Learning Rate: 2.80e-05 → 4.60e-05 (已调整)\n",
      "⏳ Early Stop Count: 1/20\n",
      "\n",
      "Epoch 3/50\n"
     ]
    },
    {
     "name": "stderr",
     "output_type": "stream",
     "text": [
      "Training: 100%|██████████| 90/90 [00:29<00:00,  3.07it/s, Loss=0.1584]\n",
      "Training: 100%|██████████| 90/90 [00:29<00:00,  3.07it/s, Loss=0.1584]\n",
      "Validation: 100%|██████████| 23/23 [00:03<00:00,  7.46it/s, Loss=0.9313]\n",
      "Validation: 100%|██████████| 23/23 [00:03<00:00,  7.46it/s, Loss=0.9313]\n"
     ]
    },
    {
     "name": "stdout",
     "output_type": "stream",
     "text": [
      "Training   - Loss: 0.1584, AUC: 0.9845\n",
      "Validation - Loss: 0.9313, AUC: 0.7324\n",
      "Learning Rate: 4.60e-05 → 6.40e-05 (已调整)\n",
      "⏳ Early Stop Count: 2/20\n",
      "\n",
      "Epoch 4/50\n"
     ]
    },
    {
     "name": "stderr",
     "output_type": "stream",
     "text": [
      "Training: 100%|██████████| 90/90 [00:27<00:00,  3.25it/s, Loss=0.2326]\n",
      "Training: 100%|██████████| 90/90 [00:27<00:00,  3.25it/s, Loss=0.2326]\n",
      "Validation: 100%|██████████| 23/23 [00:03<00:00,  6.35it/s, Loss=0.9530]\n",
      "Validation: 100%|██████████| 23/23 [00:03<00:00,  6.35it/s, Loss=0.9530]\n"
     ]
    },
    {
     "name": "stdout",
     "output_type": "stream",
     "text": [
      "Training   - Loss: 0.2326, AUC: 0.9651\n",
      "Validation - Loss: 0.9530, AUC: 0.7152\n",
      "Learning Rate: 6.40e-05 → 8.20e-05 (已调整)\n",
      "⏳ Early Stop Count: 3/20\n",
      "\n",
      "Epoch 5/50\n"
     ]
    },
    {
     "name": "stderr",
     "output_type": "stream",
     "text": [
      "Training: 100%|██████████| 90/90 [00:26<00:00,  3.33it/s, Loss=0.2323]\n",
      "Training: 100%|██████████| 90/90 [00:26<00:00,  3.33it/s, Loss=0.2323]\n",
      "Validation: 100%|██████████| 23/23 [00:03<00:00,  7.55it/s, Loss=1.2075]\n",
      "/home/yaobo/miniconda3/envs/totalseg/lib/python3.10/site-packages/torch/optim/lr_scheduler.py:232: UserWarning: The epoch parameter in `scheduler.step()` was not necessary and is being deprecated where possible. Please use `scheduler.step()` to step the scheduler. During the deprecation, if epoch is different from None, the closed form is used instead of the new chainable form, where available. Please open an issue if you are unable to replicate your use case: https://github.com/pytorch/pytorch/issues/new/choose.\n",
      "  warnings.warn(EPOCH_DEPRECATION_WARNING, UserWarning)\n",
      "Validation: 100%|██████████| 23/23 [00:03<00:00,  7.55it/s, Loss=1.2075]\n",
      "/home/yaobo/miniconda3/envs/totalseg/lib/python3.10/site-packages/torch/optim/lr_scheduler.py:232: UserWarning: The epoch parameter in `scheduler.step()` was not necessary and is being deprecated where possible. Please use `scheduler.step()` to step the scheduler. During the deprecation, if epoch is different from None, the closed form is used instead of the new chainable form, where available. Please open an issue if you are unable to replicate your use case: https://github.com/pytorch/pytorch/issues/new/choose.\n",
      "  warnings.warn(EPOCH_DEPRECATION_WARNING, UserWarning)\n"
     ]
    },
    {
     "name": "stdout",
     "output_type": "stream",
     "text": [
      "Training   - Loss: 0.2323, AUC: 0.9652\n",
      "Validation - Loss: 1.2075, AUC: 0.6797\n",
      "Learning Rate: 8.20e-05 → 1.00e-04 (已调整)\n",
      "⏳ Early Stop Count: 4/20\n",
      "\n",
      "Epoch 6/50\n"
     ]
    },
    {
     "name": "stderr",
     "output_type": "stream",
     "text": [
      "Training: 100%|██████████| 90/90 [00:27<00:00,  3.26it/s, Loss=0.2716]\n",
      "Training: 100%|██████████| 90/90 [00:27<00:00,  3.26it/s, Loss=0.2716]\n",
      "Validation: 100%|██████████| 23/23 [00:03<00:00,  7.45it/s, Loss=0.8826]\n",
      "Validation: 100%|██████████| 23/23 [00:03<00:00,  7.45it/s, Loss=0.8826]\n"
     ]
    },
    {
     "name": "stdout",
     "output_type": "stream",
     "text": [
      "Training   - Loss: 0.2716, AUC: 0.9535\n",
      "Validation - Loss: 0.8826, AUC: 0.7192\n",
      "Learning Rate: 1.00e-04 → 9.99e-05 (已调整)\n",
      "⏳ Early Stop Count: 5/20\n",
      "\n",
      "Epoch 7/50\n"
     ]
    },
    {
     "name": "stderr",
     "output_type": "stream",
     "text": [
      "Training: 100%|██████████| 90/90 [00:27<00:00,  3.27it/s, Loss=0.2519]\n",
      "Training: 100%|██████████| 90/90 [00:27<00:00,  3.27it/s, Loss=0.2519]\n",
      "Validation: 100%|██████████| 23/23 [00:03<00:00,  7.50it/s, Loss=0.8970]\n",
      "Validation: 100%|██████████| 23/23 [00:03<00:00,  7.50it/s, Loss=0.8970]\n"
     ]
    },
    {
     "name": "stdout",
     "output_type": "stream",
     "text": [
      "Training   - Loss: 0.2519, AUC: 0.9596\n",
      "Validation - Loss: 0.8970, AUC: 0.7071\n",
      "Learning Rate: 9.99e-05 → 9.95e-05 (已调整)\n",
      "⏳ Early Stop Count: 6/20\n",
      "\n",
      "Epoch 8/50\n"
     ]
    },
    {
     "name": "stderr",
     "output_type": "stream",
     "text": [
      "Training: 100%|██████████| 90/90 [00:27<00:00,  3.27it/s, Loss=0.2495]\n",
      "Validation: 100%|██████████| 23/23 [00:03<00:00,  7.46it/s, Loss=0.8175]\n"
     ]
    },
    {
     "name": "stdout",
     "output_type": "stream",
     "text": [
      "Training   - Loss: 0.2495, AUC: 0.9603\n",
      "Validation - Loss: 0.8175, AUC: 0.7104\n",
      "Learning Rate: 9.95e-05 → 9.89e-05 (已调整)\n",
      "⏳ Early Stop Count: 7/20\n",
      "\n",
      "Epoch 9/50\n"
     ]
    },
    {
     "name": "stderr",
     "output_type": "stream",
     "text": [
      "Training: 100%|██████████| 90/90 [00:28<00:00,  3.15it/s, Loss=0.1559]\n",
      "Training: 100%|██████████| 90/90 [00:28<00:00,  3.15it/s, Loss=0.1559]\n",
      "Validation: 100%|██████████| 23/23 [00:03<00:00,  7.47it/s, Loss=1.0787]\n",
      "Validation: 100%|██████████| 23/23 [00:03<00:00,  7.47it/s, Loss=1.0787]\n"
     ]
    },
    {
     "name": "stdout",
     "output_type": "stream",
     "text": [
      "Training   - Loss: 0.1559, AUC: 0.9859\n",
      "Validation - Loss: 1.0787, AUC: 0.6748\n",
      "Learning Rate: 9.89e-05 → 9.81e-05 (已调整)\n",
      "⏳ Early Stop Count: 8/20\n",
      "\n",
      "Epoch 10/50\n"
     ]
    },
    {
     "name": "stderr",
     "output_type": "stream",
     "text": [
      "Training: 100%|██████████| 90/90 [00:27<00:00,  3.30it/s, Loss=0.2161]\n",
      "Training: 100%|██████████| 90/90 [00:27<00:00,  3.30it/s, Loss=0.2161]\n",
      "Validation: 100%|██████████| 23/23 [00:03<00:00,  6.89it/s, Loss=0.9624]\n",
      "\n"
     ]
    },
    {
     "name": "stdout",
     "output_type": "stream",
     "text": [
      "Training   - Loss: 0.2161, AUC: 0.9721\n",
      "Validation - Loss: 0.9624, AUC: 0.7021\n",
      "Learning Rate: 9.81e-05 → 9.70e-05 (已调整)\n",
      "⏳ Early Stop Count: 9/20\n",
      "💾 Save checkpoint: epoch_10\n",
      "\n",
      "Epoch 11/50\n",
      "💾 Save checkpoint: epoch_10\n",
      "\n",
      "Epoch 11/50\n"
     ]
    },
    {
     "name": "stderr",
     "output_type": "stream",
     "text": [
      "Training: 100%|██████████| 90/90 [00:28<00:00,  3.11it/s, Loss=0.1995]\n",
      "Training: 100%|██████████| 90/90 [00:28<00:00,  3.11it/s, Loss=0.1995]\n",
      "Validation: 100%|██████████| 23/23 [00:03<00:00,  6.22it/s, Loss=0.9211]\n",
      "Validation: 100%|██████████| 23/23 [00:03<00:00,  6.22it/s, Loss=0.9211]\n"
     ]
    },
    {
     "name": "stdout",
     "output_type": "stream",
     "text": [
      "Training   - Loss: 0.1995, AUC: 0.9747\n",
      "Validation - Loss: 0.9211, AUC: 0.7560\n",
      "Learning Rate: 9.70e-05 → 9.57e-05 (已调整)\n",
      "⏳ Early Stop Count: 10/20\n",
      "\n",
      "Epoch 12/50\n"
     ]
    },
    {
     "name": "stderr",
     "output_type": "stream",
     "text": [
      "Training: 100%|██████████| 90/90 [00:28<00:00,  3.11it/s, Loss=0.1422]\n",
      "Training: 100%|██████████| 90/90 [00:28<00:00,  3.11it/s, Loss=0.1422]\n",
      "Validation: 100%|██████████| 23/23 [00:03<00:00,  7.52it/s, Loss=1.0967]\n",
      "Validation: 100%|██████████| 23/23 [00:03<00:00,  7.52it/s, Loss=1.0967]\n"
     ]
    },
    {
     "name": "stdout",
     "output_type": "stream",
     "text": [
      "Training   - Loss: 0.1422, AUC: 0.9889\n",
      "Validation - Loss: 1.0967, AUC: 0.7152\n",
      "Learning Rate: 9.57e-05 → 9.42e-05 (已调整)\n",
      "⏳ Early Stop Count: 11/20\n",
      "\n",
      "Epoch 13/50\n"
     ]
    },
    {
     "name": "stderr",
     "output_type": "stream",
     "text": [
      "Training: 100%|██████████| 90/90 [00:27<00:00,  3.33it/s, Loss=0.1851]\n",
      "Training: 100%|██████████| 90/90 [00:27<00:00,  3.33it/s, Loss=0.1851]\n",
      "Validation: 100%|██████████| 23/23 [00:03<00:00,  7.53it/s, Loss=0.9922]\n",
      "\n"
     ]
    },
    {
     "name": "stdout",
     "output_type": "stream",
     "text": [
      "Training   - Loss: 0.1851, AUC: 0.9785\n",
      "Validation - Loss: 0.9922, AUC: 0.7653\n",
      "Learning Rate: 9.42e-05 → 9.25e-05 (已调整)\n",
      "🏆 Best Model！Validation AUC: 0.7653, 训练AUC: 0.9785\n",
      "\n",
      "Epoch 14/50\n",
      "🏆 Best Model！Validation AUC: 0.7653, 训练AUC: 0.9785\n",
      "\n",
      "Epoch 14/50\n"
     ]
    },
    {
     "name": "stderr",
     "output_type": "stream",
     "text": [
      "Training: 100%|██████████| 90/90 [00:28<00:00,  3.19it/s, Loss=0.1667]\n",
      "Training: 100%|██████████| 90/90 [00:28<00:00,  3.19it/s, Loss=0.1667]\n",
      "Validation: 100%|██████████| 23/23 [00:03<00:00,  7.44it/s, Loss=0.9913]\n",
      "Validation: 100%|██████████| 23/23 [00:03<00:00,  7.44it/s, Loss=0.9913]\n"
     ]
    },
    {
     "name": "stdout",
     "output_type": "stream",
     "text": [
      "Training   - Loss: 0.1667, AUC: 0.9825\n",
      "Validation - Loss: 0.9913, AUC: 0.7431\n",
      "Learning Rate: 9.25e-05 → 9.05e-05 (已调整)\n",
      "⏳ Early Stop Count: 1/20\n",
      "\n",
      "Epoch 15/50\n"
     ]
    },
    {
     "name": "stderr",
     "output_type": "stream",
     "text": [
      "Training: 100%|██████████| 90/90 [00:28<00:00,  3.13it/s, Loss=0.1419]\n",
      "Training: 100%|██████████| 90/90 [00:28<00:00,  3.13it/s, Loss=0.1419]\n",
      "Validation: 100%|██████████| 23/23 [00:03<00:00,  7.44it/s, Loss=1.0528]\n",
      "Validation: 100%|██████████| 23/23 [00:03<00:00,  7.44it/s, Loss=1.0528]\n"
     ]
    },
    {
     "name": "stdout",
     "output_type": "stream",
     "text": [
      "Training   - Loss: 0.1419, AUC: 0.9894\n",
      "Validation - Loss: 1.0528, AUC: 0.7427\n",
      "Learning Rate: 9.05e-05 → 8.84e-05 (已调整)\n",
      "⏳ Early Stop Count: 2/20\n",
      "\n",
      "Epoch 16/50\n"
     ]
    },
    {
     "name": "stderr",
     "output_type": "stream",
     "text": [
      "Training: 100%|██████████| 90/90 [00:28<00:00,  3.19it/s, Loss=0.1510]\n",
      "Training: 100%|██████████| 90/90 [00:28<00:00,  3.19it/s, Loss=0.1510]\n",
      "Validation: 100%|██████████| 23/23 [00:03<00:00,  7.45it/s, Loss=1.1098]\n",
      "Validation: 100%|██████████| 23/23 [00:03<00:00,  7.45it/s, Loss=1.1098]\n"
     ]
    },
    {
     "name": "stdout",
     "output_type": "stream",
     "text": [
      "Training   - Loss: 0.1510, AUC: 0.9835\n",
      "Validation - Loss: 1.1098, AUC: 0.7120\n",
      "Learning Rate: 8.84e-05 → 8.61e-05 (已调整)\n",
      "⏳ Early Stop Count: 3/20\n",
      "\n",
      "Epoch 17/50\n"
     ]
    },
    {
     "name": "stderr",
     "output_type": "stream",
     "text": [
      "Training: 100%|██████████| 90/90 [00:28<00:00,  3.20it/s, Loss=0.1402]\n",
      "Training: 100%|██████████| 90/90 [00:28<00:00,  3.20it/s, Loss=0.1402]\n",
      "Validation: 100%|██████████| 23/23 [00:03<00:00,  7.45it/s, Loss=1.3844]\n",
      "Validation: 100%|██████████| 23/23 [00:03<00:00,  7.45it/s, Loss=1.3844]\n"
     ]
    },
    {
     "name": "stdout",
     "output_type": "stream",
     "text": [
      "Training   - Loss: 0.1402, AUC: 0.9861\n",
      "Validation - Loss: 1.3844, AUC: 0.7090\n",
      "Learning Rate: 8.61e-05 → 8.36e-05 (已调整)\n",
      "⏳ Early Stop Count: 4/20\n",
      "\n",
      "Epoch 18/50\n"
     ]
    },
    {
     "name": "stderr",
     "output_type": "stream",
     "text": [
      "Training: 100%|██████████| 90/90 [00:27<00:00,  3.24it/s, Loss=0.1716]\n",
      "Training: 100%|██████████| 90/90 [00:27<00:00,  3.24it/s, Loss=0.1716]\n",
      "Validation: 100%|██████████| 23/23 [00:03<00:00,  7.45it/s, Loss=1.2346]\n",
      "Validation: 100%|██████████| 23/23 [00:03<00:00,  7.45it/s, Loss=1.2346]\n"
     ]
    },
    {
     "name": "stdout",
     "output_type": "stream",
     "text": [
      "Training   - Loss: 0.1716, AUC: 0.9799\n",
      "Validation - Loss: 1.2346, AUC: 0.6797\n",
      "Learning Rate: 8.36e-05 → 8.10e-05 (已调整)\n",
      "⏳ Early Stop Count: 5/20\n",
      "\n",
      "Epoch 19/50\n"
     ]
    },
    {
     "name": "stderr",
     "output_type": "stream",
     "text": [
      "Training: 100%|██████████| 90/90 [00:27<00:00,  3.30it/s, Loss=0.1388]\n",
      "Training: 100%|██████████| 90/90 [00:27<00:00,  3.30it/s, Loss=0.1388]\n",
      "Validation: 100%|██████████| 23/23 [00:03<00:00,  7.45it/s, Loss=1.0779]\n",
      "Validation: 100%|██████████| 23/23 [00:03<00:00,  7.45it/s, Loss=1.0779]\n"
     ]
    },
    {
     "name": "stdout",
     "output_type": "stream",
     "text": [
      "Training   - Loss: 0.1388, AUC: 0.9881\n",
      "Validation - Loss: 1.0779, AUC: 0.7078\n",
      "Learning Rate: 8.10e-05 → 7.82e-05 (已调整)\n",
      "⏳ Early Stop Count: 6/20\n",
      "\n",
      "Epoch 20/50\n"
     ]
    },
    {
     "name": "stderr",
     "output_type": "stream",
     "text": [
      "Training: 100%|██████████| 90/90 [00:27<00:00,  3.30it/s, Loss=0.1390]\n",
      "Training: 100%|██████████| 90/90 [00:27<00:00,  3.30it/s, Loss=0.1390]\n",
      "Validation: 100%|██████████| 23/23 [00:03<00:00,  7.44it/s, Loss=1.0049]\n",
      "\n"
     ]
    },
    {
     "name": "stdout",
     "output_type": "stream",
     "text": [
      "Training   - Loss: 0.1390, AUC: 0.9877\n",
      "Validation - Loss: 1.0049, AUC: 0.7290\n",
      "Learning Rate: 7.82e-05 → 7.53e-05 (已调整)\n",
      "⏳ Early Stop Count: 7/20\n",
      "💾 Save checkpoint: epoch_20\n",
      "\n",
      "Epoch 21/50\n",
      "💾 Save checkpoint: epoch_20\n",
      "\n",
      "Epoch 21/50\n"
     ]
    },
    {
     "name": "stderr",
     "output_type": "stream",
     "text": [
      "Training: 100%|██████████| 90/90 [00:29<00:00,  3.09it/s, Loss=0.0984]\n",
      "Training: 100%|██████████| 90/90 [00:29<00:00,  3.09it/s, Loss=0.0984]\n",
      "Validation: 100%|██████████| 23/23 [00:03<00:00,  6.55it/s, Loss=1.3731]\n",
      "Validation: 100%|██████████| 23/23 [00:03<00:00,  6.55it/s, Loss=1.3731]\n"
     ]
    },
    {
     "name": "stdout",
     "output_type": "stream",
     "text": [
      "Training   - Loss: 0.0984, AUC: 0.9938\n",
      "Validation - Loss: 1.3731, AUC: 0.7050\n",
      "Learning Rate: 7.53e-05 → 7.22e-05 (已调整)\n",
      "⏳ Early Stop Count: 8/20\n",
      "\n",
      "Epoch 22/50\n"
     ]
    },
    {
     "name": "stderr",
     "output_type": "stream",
     "text": [
      "Training: 100%|██████████| 90/90 [00:27<00:00,  3.28it/s, Loss=0.0904]\n",
      "Training: 100%|██████████| 90/90 [00:27<00:00,  3.28it/s, Loss=0.0904]\n",
      "Validation: 100%|██████████| 23/23 [00:03<00:00,  6.21it/s, Loss=1.1092]\n",
      "Validation: 100%|██████████| 23/23 [00:03<00:00,  6.21it/s, Loss=1.1092]\n"
     ]
    },
    {
     "name": "stdout",
     "output_type": "stream",
     "text": [
      "Training   - Loss: 0.0904, AUC: 0.9950\n",
      "Validation - Loss: 1.1092, AUC: 0.7397\n",
      "Learning Rate: 7.22e-05 → 6.90e-05 (已调整)\n",
      "⏳ Early Stop Count: 9/20\n",
      "\n",
      "Epoch 23/50\n"
     ]
    },
    {
     "name": "stderr",
     "output_type": "stream",
     "text": [
      "Training: 100%|██████████| 90/90 [00:28<00:00,  3.19it/s, Loss=0.1068]\n",
      "Training: 100%|██████████| 90/90 [00:28<00:00,  3.19it/s, Loss=0.1068]\n",
      "Validation: 100%|██████████| 23/23 [00:03<00:00,  7.47it/s, Loss=0.9127]\n",
      "Validation: 100%|██████████| 23/23 [00:03<00:00,  7.47it/s, Loss=0.9127]\n"
     ]
    },
    {
     "name": "stdout",
     "output_type": "stream",
     "text": [
      "Training   - Loss: 0.1068, AUC: 0.9938\n",
      "Validation - Loss: 0.9127, AUC: 0.7635\n",
      "Learning Rate: 6.90e-05 → 6.58e-05 (已调整)\n",
      "⏳ Early Stop Count: 10/20\n",
      "\n",
      "Epoch 24/50\n"
     ]
    },
    {
     "name": "stderr",
     "output_type": "stream",
     "text": [
      "Training: 100%|██████████| 90/90 [00:27<00:00,  3.23it/s, Loss=0.0888]\n",
      "Training: 100%|██████████| 90/90 [00:27<00:00,  3.23it/s, Loss=0.0888]\n",
      "Validation: 100%|██████████| 23/23 [00:03<00:00,  7.29it/s, Loss=1.0989]\n",
      "Validation: 100%|██████████| 23/23 [00:03<00:00,  7.29it/s, Loss=1.0989]\n"
     ]
    },
    {
     "name": "stdout",
     "output_type": "stream",
     "text": [
      "Training   - Loss: 0.0888, AUC: 0.9942\n",
      "Validation - Loss: 1.0989, AUC: 0.7584\n",
      "Learning Rate: 6.58e-05 → 6.25e-05 (已调整)\n",
      "⏳ Early Stop Count: 11/20\n",
      "\n",
      "Epoch 25/50\n"
     ]
    },
    {
     "name": "stderr",
     "output_type": "stream",
     "text": [
      "Training: 100%|██████████| 90/90 [00:27<00:00,  3.23it/s, Loss=0.0858]\n",
      "Training: 100%|██████████| 90/90 [00:27<00:00,  3.23it/s, Loss=0.0858]\n",
      "Validation: 100%|██████████| 23/23 [00:03<00:00,  6.61it/s, Loss=0.9207]\n",
      "\n"
     ]
    },
    {
     "name": "stdout",
     "output_type": "stream",
     "text": [
      "Training   - Loss: 0.0858, AUC: 0.9941\n",
      "Validation - Loss: 0.9207, AUC: 0.7730\n",
      "Learning Rate: 6.25e-05 → 5.91e-05 (已调整)\n",
      "🏆 Best Model！Validation AUC: 0.7730, 训练AUC: 0.9941\n",
      "\n",
      "Epoch 26/50\n",
      "🏆 Best Model！Validation AUC: 0.7730, 训练AUC: 0.9941\n",
      "\n",
      "Epoch 26/50\n"
     ]
    },
    {
     "name": "stderr",
     "output_type": "stream",
     "text": [
      "Training: 100%|██████████| 90/90 [00:28<00:00,  3.13it/s, Loss=0.0804]\n",
      "Training: 100%|██████████| 90/90 [00:28<00:00,  3.13it/s, Loss=0.0804]\n",
      "Validation: 100%|██████████| 23/23 [00:03<00:00,  7.19it/s, Loss=1.5594]\n",
      "Validation: 100%|██████████| 23/23 [00:03<00:00,  7.19it/s, Loss=1.5594]\n"
     ]
    },
    {
     "name": "stdout",
     "output_type": "stream",
     "text": [
      "Training   - Loss: 0.0804, AUC: 0.9964\n",
      "Validation - Loss: 1.5594, AUC: 0.7219\n",
      "Learning Rate: 5.91e-05 → 5.57e-05 (已调整)\n",
      "⏳ Early Stop Count: 1/20\n",
      "\n",
      "Epoch 27/50\n"
     ]
    },
    {
     "name": "stderr",
     "output_type": "stream",
     "text": [
      "Training: 100%|██████████| 90/90 [00:28<00:00,  3.13it/s, Loss=0.0747]\n",
      "Training: 100%|██████████| 90/90 [00:28<00:00,  3.13it/s, Loss=0.0747]\n",
      "Validation: 100%|██████████| 23/23 [00:03<00:00,  7.50it/s, Loss=1.0525]\n",
      "Validation: 100%|██████████| 23/23 [00:03<00:00,  7.50it/s, Loss=1.0525]\n"
     ]
    },
    {
     "name": "stdout",
     "output_type": "stream",
     "text": [
      "Training   - Loss: 0.0747, AUC: 0.9971\n",
      "Validation - Loss: 1.0525, AUC: 0.7522\n",
      "Learning Rate: 5.57e-05 → 5.22e-05 (已调整)\n",
      "⏳ Early Stop Count: 2/20\n",
      "\n",
      "Epoch 28/50\n"
     ]
    },
    {
     "name": "stderr",
     "output_type": "stream",
     "text": [
      "Training: 100%|██████████| 90/90 [00:26<00:00,  3.34it/s, Loss=0.0948]\n",
      "Training: 100%|██████████| 90/90 [00:26<00:00,  3.34it/s, Loss=0.0948]\n",
      "Validation: 100%|██████████| 23/23 [00:03<00:00,  7.47it/s, Loss=1.0088]\n",
      "\n"
     ]
    },
    {
     "name": "stdout",
     "output_type": "stream",
     "text": [
      "Training   - Loss: 0.0948, AUC: 0.9920\n",
      "Validation - Loss: 1.0088, AUC: 0.7773\n",
      "Learning Rate: 5.22e-05 → 4.88e-05 (已调整)\n",
      "🏆 Best Model！Validation AUC: 0.7773, 训练AUC: 0.9920\n",
      "\n",
      "Epoch 29/50\n",
      "🏆 Best Model！Validation AUC: 0.7773, 训练AUC: 0.9920\n",
      "\n",
      "Epoch 29/50\n"
     ]
    },
    {
     "name": "stderr",
     "output_type": "stream",
     "text": [
      "Training: 100%|██████████| 90/90 [00:29<00:00,  3.06it/s, Loss=0.0622]\n",
      "Training: 100%|██████████| 90/90 [00:29<00:00,  3.06it/s, Loss=0.0622]\n",
      "Validation: 100%|██████████| 23/23 [00:03<00:00,  7.40it/s, Loss=1.0865]\n",
      "Validation: 100%|██████████| 23/23 [00:03<00:00,  7.40it/s, Loss=1.0865]\n"
     ]
    },
    {
     "name": "stdout",
     "output_type": "stream",
     "text": [
      "Training   - Loss: 0.0622, AUC: 0.9979\n",
      "Validation - Loss: 1.0865, AUC: 0.7593\n",
      "Learning Rate: 4.88e-05 → 4.53e-05 (已调整)\n",
      "⏳ Early Stop Count: 1/20\n",
      "\n",
      "Epoch 30/50\n"
     ]
    },
    {
     "name": "stderr",
     "output_type": "stream",
     "text": [
      "Training: 100%|██████████| 90/90 [00:27<00:00,  3.32it/s, Loss=0.0612]\n",
      "Training: 100%|██████████| 90/90 [00:27<00:00,  3.32it/s, Loss=0.0612]\n",
      "Validation: 100%|██████████| 23/23 [00:03<00:00,  6.94it/s, Loss=1.1238]\n",
      "\n"
     ]
    },
    {
     "name": "stdout",
     "output_type": "stream",
     "text": [
      "Training   - Loss: 0.0612, AUC: 0.9972\n",
      "Validation - Loss: 1.1238, AUC: 0.7419\n",
      "Learning Rate: 4.53e-05 → 4.19e-05 (已调整)\n",
      "⏳ Early Stop Count: 2/20\n",
      "💾 Save checkpoint: epoch_30\n",
      "\n",
      "Epoch 31/50\n",
      "💾 Save checkpoint: epoch_30\n",
      "\n",
      "Epoch 31/50\n"
     ]
    },
    {
     "name": "stderr",
     "output_type": "stream",
     "text": [
      "Training: 100%|██████████| 90/90 [00:28<00:00,  3.14it/s, Loss=0.0346]\n",
      "Training: 100%|██████████| 90/90 [00:28<00:00,  3.14it/s, Loss=0.0346]\n",
      "Validation: 100%|██████████| 23/23 [00:03<00:00,  7.00it/s, Loss=1.2340]\n",
      "Validation: 100%|██████████| 23/23 [00:03<00:00,  7.00it/s, Loss=1.2340]\n"
     ]
    },
    {
     "name": "stdout",
     "output_type": "stream",
     "text": [
      "Training   - Loss: 0.0346, AUC: 0.9995\n",
      "Validation - Loss: 1.2340, AUC: 0.7324\n",
      "Learning Rate: 4.19e-05 → 3.85e-05 (已调整)\n",
      "⏳ Early Stop Count: 3/20\n",
      "\n",
      "Epoch 32/50\n"
     ]
    },
    {
     "name": "stderr",
     "output_type": "stream",
     "text": [
      "Training: 100%|██████████| 90/90 [00:28<00:00,  3.14it/s, Loss=0.0617]\n",
      "Training: 100%|██████████| 90/90 [00:28<00:00,  3.14it/s, Loss=0.0617]\n",
      "Validation: 100%|██████████| 23/23 [00:03<00:00,  7.46it/s, Loss=1.2852]\n",
      "Validation: 100%|██████████| 23/23 [00:03<00:00,  7.46it/s, Loss=1.2852]\n"
     ]
    },
    {
     "name": "stdout",
     "output_type": "stream",
     "text": [
      "Training   - Loss: 0.0617, AUC: 0.9977\n",
      "Validation - Loss: 1.2852, AUC: 0.7298\n",
      "Learning Rate: 3.85e-05 → 3.52e-05 (已调整)\n",
      "⏳ Early Stop Count: 4/20\n",
      "\n",
      "Epoch 33/50\n"
     ]
    },
    {
     "name": "stderr",
     "output_type": "stream",
     "text": [
      "Training: 100%|██████████| 90/90 [00:27<00:00,  3.26it/s, Loss=0.0416]\n",
      "Training: 100%|██████████| 90/90 [00:27<00:00,  3.26it/s, Loss=0.0416]\n",
      "Validation: 100%|██████████| 23/23 [00:03<00:00,  7.39it/s, Loss=1.3728]\n",
      "Validation: 100%|██████████| 23/23 [00:03<00:00,  7.39it/s, Loss=1.3728]\n"
     ]
    },
    {
     "name": "stdout",
     "output_type": "stream",
     "text": [
      "Training   - Loss: 0.0416, AUC: 0.9983\n",
      "Validation - Loss: 1.3728, AUC: 0.7270\n",
      "Learning Rate: 3.52e-05 → 3.20e-05 (已调整)\n",
      "⏳ Early Stop Count: 5/20\n",
      "\n",
      "Epoch 34/50\n"
     ]
    },
    {
     "name": "stderr",
     "output_type": "stream",
     "text": [
      "Training: 100%|██████████| 90/90 [00:27<00:00,  3.33it/s, Loss=0.0378]\n",
      "Training: 100%|██████████| 90/90 [00:27<00:00,  3.33it/s, Loss=0.0378]\n",
      "Validation: 100%|██████████| 23/23 [00:03<00:00,  6.47it/s, Loss=1.2037]\n",
      "Validation: 100%|██████████| 23/23 [00:03<00:00,  6.47it/s, Loss=1.2037]\n"
     ]
    },
    {
     "name": "stdout",
     "output_type": "stream",
     "text": [
      "Training   - Loss: 0.0378, AUC: 0.9990\n",
      "Validation - Loss: 1.2037, AUC: 0.7428\n",
      "Learning Rate: 3.20e-05 → 2.88e-05 (已调整)\n",
      "⏳ Early Stop Count: 6/20\n",
      "\n",
      "Epoch 35/50\n"
     ]
    },
    {
     "name": "stderr",
     "output_type": "stream",
     "text": [
      "Training: 100%|██████████| 90/90 [00:28<00:00,  3.16it/s, Loss=0.0199]\n",
      "Training: 100%|██████████| 90/90 [00:28<00:00,  3.16it/s, Loss=0.0199]\n",
      "Validation: 100%|██████████| 23/23 [00:04<00:00,  5.65it/s, Loss=1.2783]\n",
      "Validation: 100%|██████████| 23/23 [00:04<00:00,  5.65it/s, Loss=1.2783]\n"
     ]
    },
    {
     "name": "stdout",
     "output_type": "stream",
     "text": [
      "Training   - Loss: 0.0199, AUC: 0.9999\n",
      "Validation - Loss: 1.2783, AUC: 0.7290\n",
      "Learning Rate: 2.88e-05 → 2.58e-05 (已调整)\n",
      "⏳ Early Stop Count: 7/20\n",
      "\n",
      "Epoch 36/50\n"
     ]
    },
    {
     "name": "stderr",
     "output_type": "stream",
     "text": [
      "Training: 100%|██████████| 90/90 [00:28<00:00,  3.20it/s, Loss=0.0480]\n",
      "Training: 100%|██████████| 90/90 [00:28<00:00,  3.20it/s, Loss=0.0480]\n",
      "Validation: 100%|██████████| 23/23 [00:03<00:00,  6.33it/s, Loss=1.2499]\n",
      "Validation: 100%|██████████| 23/23 [00:03<00:00,  6.33it/s, Loss=1.2499]\n"
     ]
    },
    {
     "name": "stdout",
     "output_type": "stream",
     "text": [
      "Training   - Loss: 0.0480, AUC: 0.9979\n",
      "Validation - Loss: 1.2499, AUC: 0.7477\n",
      "Learning Rate: 2.58e-05 → 2.28e-05 (已调整)\n",
      "⏳ Early Stop Count: 8/20\n",
      "\n",
      "Epoch 37/50\n"
     ]
    },
    {
     "name": "stderr",
     "output_type": "stream",
     "text": [
      "Training: 100%|██████████| 90/90 [00:28<00:00,  3.17it/s, Loss=0.0413]\n",
      "Training: 100%|██████████| 90/90 [00:28<00:00,  3.17it/s, Loss=0.0413]\n",
      "Validation: 100%|██████████| 23/23 [00:03<00:00,  6.95it/s, Loss=1.3055]\n",
      "Validation: 100%|██████████| 23/23 [00:03<00:00,  6.95it/s, Loss=1.3055]\n"
     ]
    },
    {
     "name": "stdout",
     "output_type": "stream",
     "text": [
      "Training   - Loss: 0.0413, AUC: 0.9992\n",
      "Validation - Loss: 1.3055, AUC: 0.7416\n",
      "Learning Rate: 2.28e-05 → 2.00e-05 (已调整)\n",
      "⏳ Early Stop Count: 9/20\n",
      "\n",
      "Epoch 38/50\n"
     ]
    },
    {
     "name": "stderr",
     "output_type": "stream",
     "text": [
      "Training: 100%|██████████| 90/90 [00:26<00:00,  3.34it/s, Loss=0.0315]\n",
      "Training: 100%|██████████| 90/90 [00:26<00:00,  3.34it/s, Loss=0.0315]\n",
      "Validation: 100%|██████████| 23/23 [00:03<00:00,  7.45it/s, Loss=1.2181]\n",
      "Validation: 100%|██████████| 23/23 [00:03<00:00,  7.45it/s, Loss=1.2181]\n"
     ]
    },
    {
     "name": "stdout",
     "output_type": "stream",
     "text": [
      "Training   - Loss: 0.0315, AUC: 0.9990\n",
      "Validation - Loss: 1.2181, AUC: 0.7466\n",
      "Learning Rate: 2.00e-05 → 1.74e-05 (已调整)\n",
      "⏳ Early Stop Count: 10/20\n",
      "\n",
      "Epoch 39/50\n"
     ]
    },
    {
     "name": "stderr",
     "output_type": "stream",
     "text": [
      "Training: 100%|██████████| 90/90 [00:27<00:00,  3.22it/s, Loss=0.0185]\n",
      "Training: 100%|██████████| 90/90 [00:27<00:00,  3.22it/s, Loss=0.0185]\n",
      "Validation: 100%|██████████| 23/23 [00:03<00:00,  7.44it/s, Loss=1.1066]\n",
      "Validation: 100%|██████████| 23/23 [00:03<00:00,  7.44it/s, Loss=1.1066]\n"
     ]
    },
    {
     "name": "stdout",
     "output_type": "stream",
     "text": [
      "Training   - Loss: 0.0185, AUC: 0.9999\n",
      "Validation - Loss: 1.1066, AUC: 0.7513\n",
      "Learning Rate: 1.74e-05 → 1.49e-05 (已调整)\n",
      "⏳ Early Stop Count: 11/20\n",
      "\n",
      "Epoch 40/50\n"
     ]
    },
    {
     "name": "stderr",
     "output_type": "stream",
     "text": [
      "Training: 100%|██████████| 90/90 [00:27<00:00,  3.29it/s, Loss=0.0188]\n",
      "Training: 100%|██████████| 90/90 [00:27<00:00,  3.29it/s, Loss=0.0188]\n",
      "Validation: 100%|██████████| 23/23 [00:03<00:00,  7.45it/s, Loss=1.1268]\n",
      "\n"
     ]
    },
    {
     "name": "stdout",
     "output_type": "stream",
     "text": [
      "Training   - Loss: 0.0188, AUC: 0.9999\n",
      "Validation - Loss: 1.1268, AUC: 0.7574\n",
      "Learning Rate: 1.49e-05 → 1.26e-05 (已调整)\n",
      "⏳ Early Stop Count: 12/20\n",
      "💾 Save checkpoint: epoch_40\n",
      "\n",
      "Epoch 41/50\n",
      "💾 Save checkpoint: epoch_40\n",
      "\n",
      "Epoch 41/50\n"
     ]
    },
    {
     "name": "stderr",
     "output_type": "stream",
     "text": [
      "Training: 100%|██████████| 90/90 [00:29<00:00,  3.10it/s, Loss=0.0333]\n",
      "Training: 100%|██████████| 90/90 [00:29<00:00,  3.10it/s, Loss=0.0333]\n",
      "Validation: 100%|██████████| 23/23 [00:03<00:00,  7.41it/s, Loss=1.1641]\n",
      "Validation: 100%|██████████| 23/23 [00:03<00:00,  7.41it/s, Loss=1.1641]\n"
     ]
    },
    {
     "name": "stdout",
     "output_type": "stream",
     "text": [
      "Training   - Loss: 0.0333, AUC: 0.9992\n",
      "Validation - Loss: 1.1641, AUC: 0.7540\n",
      "Learning Rate: 1.26e-05 → 1.05e-05 (已调整)\n",
      "⏳ Early Stop Count: 13/20\n",
      "\n",
      "Epoch 42/50\n"
     ]
    },
    {
     "name": "stderr",
     "output_type": "stream",
     "text": [
      "Training: 100%|██████████| 90/90 [00:28<00:00,  3.12it/s, Loss=0.0204]\n",
      "Training: 100%|██████████| 90/90 [00:28<00:00,  3.12it/s, Loss=0.0204]\n",
      "Validation: 100%|██████████| 23/23 [00:03<00:00,  6.56it/s, Loss=1.1860]\n",
      "Validation: 100%|██████████| 23/23 [00:03<00:00,  6.56it/s, Loss=1.1860]\n"
     ]
    },
    {
     "name": "stdout",
     "output_type": "stream",
     "text": [
      "Training   - Loss: 0.0204, AUC: 0.9995\n",
      "Validation - Loss: 1.1860, AUC: 0.7636\n",
      "Learning Rate: 1.05e-05 → 8.52e-06 (已调整)\n",
      "⏳ Early Stop Count: 14/20\n",
      "\n",
      "Epoch 43/50\n"
     ]
    },
    {
     "name": "stderr",
     "output_type": "stream",
     "text": [
      "Training: 100%|██████████| 90/90 [00:27<00:00,  3.27it/s, Loss=0.0169]\n",
      "Training: 100%|██████████| 90/90 [00:27<00:00,  3.27it/s, Loss=0.0169]\n",
      "Validation: 100%|██████████| 23/23 [00:03<00:00,  7.50it/s, Loss=1.1282]\n",
      "Validation: 100%|██████████| 23/23 [00:03<00:00,  7.50it/s, Loss=1.1282]\n"
     ]
    },
    {
     "name": "stdout",
     "output_type": "stream",
     "text": [
      "Training   - Loss: 0.0169, AUC: 0.9998\n",
      "Validation - Loss: 1.1282, AUC: 0.7626\n",
      "Learning Rate: 8.52e-06 → 6.79e-06 (已调整)\n",
      "⏳ Early Stop Count: 15/20\n",
      "\n",
      "Epoch 44/50\n"
     ]
    },
    {
     "name": "stderr",
     "output_type": "stream",
     "text": [
      "Training: 100%|██████████| 90/90 [00:28<00:00,  3.17it/s, Loss=0.0122]\n",
      "Training: 100%|██████████| 90/90 [00:28<00:00,  3.17it/s, Loss=0.0122]\n",
      "Validation: 100%|██████████| 23/23 [00:03<00:00,  7.50it/s, Loss=1.1426]\n",
      "Validation: 100%|██████████| 23/23 [00:03<00:00,  7.50it/s, Loss=1.1426]\n"
     ]
    },
    {
     "name": "stdout",
     "output_type": "stream",
     "text": [
      "Training   - Loss: 0.0122, AUC: 1.0000\n",
      "Validation - Loss: 1.1426, AUC: 0.7601\n",
      "Learning Rate: 6.79e-06 → 5.28e-06 (已调整)\n",
      "⏳ Early Stop Count: 16/20\n",
      "\n",
      "Epoch 45/50\n"
     ]
    },
    {
     "name": "stderr",
     "output_type": "stream",
     "text": [
      "Training: 100%|██████████| 90/90 [00:27<00:00,  3.28it/s, Loss=0.0106]\n",
      "Training: 100%|██████████| 90/90 [00:27<00:00,  3.28it/s, Loss=0.0106]\n",
      "Validation: 100%|██████████| 23/23 [00:03<00:00,  7.50it/s, Loss=1.2135]\n",
      "Validation: 100%|██████████| 23/23 [00:03<00:00,  7.50it/s, Loss=1.2135]\n"
     ]
    },
    {
     "name": "stdout",
     "output_type": "stream",
     "text": [
      "Training   - Loss: 0.0106, AUC: 1.0000\n",
      "Validation - Loss: 1.2135, AUC: 0.7598\n",
      "Learning Rate: 5.28e-06 → 3.99e-06 (已调整)\n",
      "⏳ Early Stop Count: 17/20\n",
      "\n",
      "Epoch 46/50\n"
     ]
    },
    {
     "name": "stderr",
     "output_type": "stream",
     "text": [
      "Training: 100%|██████████| 90/90 [00:27<00:00,  3.27it/s, Loss=0.0222]\n",
      "Training: 100%|██████████| 90/90 [00:27<00:00,  3.27it/s, Loss=0.0222]\n",
      "Validation: 100%|██████████| 23/23 [00:03<00:00,  6.08it/s, Loss=1.1418]\n",
      "Validation: 100%|██████████| 23/23 [00:03<00:00,  6.08it/s, Loss=1.1418]\n"
     ]
    },
    {
     "name": "stdout",
     "output_type": "stream",
     "text": [
      "Training   - Loss: 0.0222, AUC: 0.9998\n",
      "Validation - Loss: 1.1418, AUC: 0.7585\n",
      "Learning Rate: 3.99e-06 → 2.92e-06 (已调整)\n",
      "⏳ Early Stop Count: 18/20\n",
      "\n",
      "Epoch 47/50\n"
     ]
    },
    {
     "name": "stderr",
     "output_type": "stream",
     "text": [
      "Training: 100%|██████████| 90/90 [00:27<00:00,  3.29it/s, Loss=0.0152]\n",
      "Training: 100%|██████████| 90/90 [00:27<00:00,  3.29it/s, Loss=0.0152]\n",
      "Validation: 100%|██████████| 23/23 [00:03<00:00,  7.43it/s, Loss=1.1700]\n",
      "Validation: 100%|██████████| 23/23 [00:03<00:00,  7.43it/s, Loss=1.1700]\n"
     ]
    },
    {
     "name": "stdout",
     "output_type": "stream",
     "text": [
      "Training   - Loss: 0.0152, AUC: 0.9999\n",
      "Validation - Loss: 1.1700, AUC: 0.7576\n",
      "Learning Rate: 2.92e-06 → 2.08e-06 (已调整)\n",
      "⏳ Early Stop Count: 19/20\n",
      "\n",
      "Epoch 48/50\n"
     ]
    },
    {
     "name": "stderr",
     "output_type": "stream",
     "text": [
      "Training: 100%|██████████| 90/90 [00:27<00:00,  3.22it/s, Loss=0.0310]\n",
      "Training: 100%|██████████| 90/90 [00:27<00:00,  3.22it/s, Loss=0.0310]\n",
      "Validation: 100%|██████████| 23/23 [00:03<00:00,  7.45it/s, Loss=1.1703]"
     ]
    },
    {
     "name": "stdout",
     "output_type": "stream",
     "text": [
      "Training   - Loss: 0.0310, AUC: 0.9993\n",
      "Validation - Loss: 1.1703, AUC: 0.7569\n",
      "Learning Rate: 2.08e-06 → 1.48e-06 (已调整)\n",
      "⏳ Early Stop Count: 20/20\n",
      "\n",
      "🛑 Early Stop！Continuous 20 个epoch ROC AUC didn't improve\n",
      "Best Val AUC: 0.7773\n",
      "\n",
      "🎉 Training Completed！\n",
      "Best Val AUC: 0.7773\n"
     ]
    },
    {
     "name": "stderr",
     "output_type": "stream",
     "text": [
      "\n"
     ]
    }
   ],
   "source": [
    "# 主训练循环 - 使用ROC AUC监控早停\n",
    "num_epochs = config[\"training\"][\"num_epochs\"]\n",
    "patience = config[\"training\"][\"patience\"]\n",
    "save_interval = config[\"training\"][\"save_interval\"]\n",
    "output_dir = config[\"experiment\"][\"output_dir\"]\n",
    "\n",
    "# 创建输出目录\n",
    "os.makedirs(output_dir, exist_ok=True)\n",
    "\n",
    "# 记录训练历史 - 只记录AUC，不再记录accuracy\n",
    "train_losses = []\n",
    "train_aucs = []  # 训练AUC\n",
    "val_losses = []\n",
    "val_aucs = []   # 验证AUC\n",
    "learning_rates = []\n",
    "\n",
    "best_val_auc = 0.0  # 使用AUC作为最佳模型标准\n",
    "patience_counter = 0\n",
    "\n",
    "print(f\"开始训练，共 {num_epochs} 个epoch\")\n",
    "print(f\"输出目录: {output_dir}\")\n",
    "print(f\"早停监控指标: ROC AUC (patience={patience})\")\n",
    "print(\"-\" * 60)\n",
    "\n",
    "for epoch in range(num_epochs):\n",
    "    print(f\"\\nEpoch {epoch+1}/{num_epochs}\")\n",
    "    \n",
    "    # 记录当前学习率\n",
    "    current_lr = optimizer.param_groups[0]['lr']\n",
    "    learning_rates.append(current_lr)\n",
    "    \n",
    "    # 训练 - 现在返回loss和AUC\n",
    "    train_loss, train_auc = train_epoch(model, train_loader, criterion, optimizer, device)\n",
    "    \n",
    "    # 验证 - 返回loss, AUC和预测结果\n",
    "    val_loss, val_auc, val_preds, val_targets, val_probs = validate_epoch(model, val_loader, criterion, device)\n",
    "    \n",
    "    # 更新学习率（明确传入epoch参数避免deprecation警告）\n",
    "    old_lr = optimizer.param_groups[0]['lr']\n",
    "    scheduler.step(epoch)  # 明确传入epoch参数\n",
    "    new_lr = optimizer.param_groups[0]['lr']\n",
    "    \n",
    "    # 记录历史\n",
    "    train_losses.append(train_loss)\n",
    "    train_aucs.append(train_auc)\n",
    "    val_losses.append(val_loss)\n",
    "    val_aucs.append(val_auc)\n",
    "    \n",
    "    # 打印epoch结果 - 只显示AUC\n",
    "    print(f\"Training   - Loss: {train_loss:.4f}, AUC: {train_auc:.4f}\")\n",
    "    print(f\"Validation - Loss: {val_loss:.4f}, AUC: {val_auc:.4f}\")\n",
    "    print(f\"Learning Rate: {current_lr:.2e}\", end=\"\")\n",
    "    if new_lr != old_lr:\n",
    "        print(f\" → {new_lr:.2e} (已调整)\")\n",
    "    else:\n",
    "        print(\"\")\n",
    "    \n",
    "    # 使用ROC AUC来判断是否保存最佳模型\n",
    "    if val_auc > best_val_auc:\n",
    "        best_val_auc = val_auc\n",
    "        patience_counter = 0\n",
    "        torch.save({\n",
    "            'epoch': epoch,\n",
    "            'model_state_dict': model.state_dict(),\n",
    "            'optimizer_state_dict': optimizer.state_dict(),\n",
    "            'val_auc': val_auc,\n",
    "            'train_auc': train_auc,\n",
    "            'config': config\n",
    "        }, os.path.join(output_dir, 'best_model.pth'))\n",
    "        print(f\"🏆 Best Model！Validation AUC: {val_auc:.4f}, 训练AUC: {train_auc:.4f}\")\n",
    "    else:\n",
    "        patience_counter += 1\n",
    "        print(f\"⏳ Early Stop Count: {patience_counter}/{patience}\")\n",
    "    \n",
    "    # 定期保存检查点\n",
    "    if (epoch + 1) % save_interval == 0:\n",
    "        torch.save({\n",
    "            'epoch': epoch,\n",
    "            'model_state_dict': model.state_dict(),\n",
    "            'optimizer_state_dict': optimizer.state_dict(),\n",
    "            'val_auc': val_auc,\n",
    "            'train_auc': train_auc,\n",
    "            'config': config\n",
    "        }, os.path.join(output_dir, f'checkpoint_epoch_{epoch+1}.pth'))\n",
    "        print(f\"💾 Save checkpoint: epoch_{epoch+1}\")\n",
    "    \n",
    "    # 早停检查 - 基于ROC AUC\n",
    "    if patience_counter >= patience:\n",
    "        print(f\"\\n🛑 Early Stop！Continuous {patience} 个epoch ROC AUC didn't improve\")\n",
    "        print(f\"Best Val AUC: {best_val_auc:.4f}\")\n",
    "        break\n",
    "\n",
    "print(\"\\n🎉 Training Completed！\")\n",
    "print(f\"Best Val AUC: {best_val_auc:.4f}\")"
   ]
  },
  {
   "cell_type": "code",
   "execution_count": 67,
   "id": "966c963e",
   "metadata": {},
   "outputs": [
    {
     "data": {
      "image/png": "[encoded data removed]",
      "text/plain": [
       "<Figure size 1500x500 with 3 Axes>"
      ]
     },
     "metadata": {},
     "output_type": "display_data"
    },
    {
     "name": "stdout",
     "output_type": "stream",
     "text": [
      "Training curves saved\n",
      "\n",
      "📊 Training Summary:\n",
      "Final Training AUC: 0.9993\n",
      "Final Validation AUC: 0.7569\n",
      "Best Validation AUC: 0.7773\n"
     ]
    }
   ],
   "source": [
    "# Plot training curves with ROC AUC only\n",
    "plt.figure(figsize=(15, 5))\n",
    "\n",
    "# Loss curve\n",
    "plt.subplot(1, 3, 1)\n",
    "plt.plot(train_losses, label='Training Loss', color='blue')\n",
    "plt.plot(val_losses, label='Validation Loss', color='red')\n",
    "plt.xlabel('Epoch')\n",
    "plt.ylabel('Loss')\n",
    "plt.title('Training and Validation Loss')\n",
    "plt.legend()\n",
    "plt.grid(True, alpha=0.3)\n",
    "\n",
    "# ROC AUC curve\n",
    "plt.subplot(1, 3, 2)\n",
    "plt.plot(train_aucs, label='Training ROC AUC', color='blue', linewidth=2)\n",
    "plt.plot(val_aucs, label='Validation ROC AUC', color='red', linewidth=2)\n",
    "plt.axhline(y=0.5, color='gray', linestyle='--', alpha=0.5, label='Random Classifier')\n",
    "plt.xlabel('Epoch')\n",
    "plt.ylabel('ROC AUC')\n",
    "plt.title('Training and Validation ROC AUC')\n",
    "plt.ylim([0.4, 1.0])\n",
    "plt.legend()\n",
    "plt.grid(True, alpha=0.3)\n",
    "\n",
    "# Learning rate curve\n",
    "plt.subplot(1, 3, 3)\n",
    "plt.plot(learning_rates, 'orange', linewidth=2)\n",
    "plt.xlabel('Epoch')\n",
    "plt.ylabel('Learning Rate')\n",
    "plt.title('Learning Rate Schedule')\n",
    "plt.yscale('log')  # Use log scale for better visualization\n",
    "plt.grid(True, alpha=0.3)\n",
    "\n",
    "plt.tight_layout()\n",
    "plt.savefig(os.path.join(output_dir, 'training_curves.png'), dpi=300, bbox_inches='tight')\n",
    "plt.show()\n",
    "\n",
    "# Print training summary\n",
    "print(\"Training curves saved\")\n",
    "print(f\"\\n📊 Training Summary:\")\n",
    "print(f\"Final Training AUC: {train_aucs[-1]:.4f}\")\n",
    "print(f\"Final Validation AUC: {val_aucs[-1]:.4f}\")\n",
    "print(f\"Best Validation AUC: {best_val_auc:.4f}\")"
   ]
  },
  {
   "cell_type": "code",
   "execution_count": 68,
   "id": "748d2e59",
   "metadata": {},
   "outputs": [
    {
     "name": "stdout",
     "output_type": "stream",
     "text": [
      "Loading best model for evaluation...\n"
     ]
    },
    {
     "name": "stdout",
     "output_type": "stream",
     "text": [
      "Best model from epoch 28\n",
      "Best training AUC: 0.7773\n",
      "\n",
      "==================================================\n",
      "FINAL EVALUATION\n",
      "==================================================\n"
     ]
    },
    {
     "name": "stderr",
     "output_type": "stream",
     "text": [
      "Final Evaluation: 100%|██████████| 23/23 [00:03<00:00,  6.83it/s]\n",
      "Final Evaluation: 100%|██████████| 23/23 [00:03<00:00,  6.83it/s]\n"
     ]
    }
   ],
   "source": [
    "# Load best model for final evaluation\n",
    "best_model_path = os.path.join(output_dir, 'best_model.pth')\n",
    "if os.path.exists(best_model_path):\n",
    "    print(\"Loading best model for evaluation...\")\n",
    "    checkpoint = torch.load(best_model_path, map_location=device, weights_only=False)\n",
    "    model.load_state_dict(checkpoint['model_state_dict'])\n",
    "    print(f\"Best model from epoch {checkpoint['epoch']+1}\")\n",
    "    print(f\"Best training AUC: {checkpoint.get('val_auc', 'N/A'):.4f}\")\n",
    "    # print(f\"Best training Accuracy: {checkpoint.get('val_acc', 'N/A'):.2f}%\")\n",
    "\n",
    "# Final evaluation on validation set using the same method as training\n",
    "print(\"\\n\" + \"=\"*50)\n",
    "print(\"FINAL EVALUATION\")\n",
    "print(\"=\"*50)\n",
    "\n",
    "model.eval()\n",
    "all_preds = []\n",
    "all_targets = []\n",
    "all_probs = []\n",
    "\n",
    "with torch.no_grad():\n",
    "    for data, targets in tqdm(val_loader, desc=\"Final Evaluation\"):\n",
    "        data, targets = data.to(device), targets.to(device)\n",
    "        outputs = model(data)\n",
    "        \n",
    "        # 获取预测概率和预测类别（与训练时一致）\n",
    "        probs = torch.softmax(outputs, dim=1)\n",
    "        _, predicted = outputs.max(1)\n",
    "        \n",
    "        all_preds.extend(predicted.cpu().numpy())\n",
    "        all_targets.extend(targets.cpu().numpy())\n",
    "        all_probs.extend(probs.cpu().numpy())\n",
    "\n",
    "# 转换为numpy数组\n",
    "all_probs = np.array(all_probs)\n",
    "all_targets = np.array(all_targets)\n",
    "all_preds = np.array(all_preds)"
   ]
  },
  {
   "cell_type": "code",
   "execution_count": 69,
   "id": "007a91ec",
   "metadata": {},
   "outputs": [
    {
     "name": "stdout",
     "output_type": "stream",
     "text": [
      "\n",
      "Final validation accuracy: 75.14%\n",
      "\n",
      "Classification Report:\n",
      "              precision    recall  f1-score   support\n",
      "\n",
      "           0       0.81      0.79      0.80       115\n",
      "           1       0.65      0.68      0.67        66\n",
      "\n",
      "    accuracy                           0.75       181\n",
      "   macro avg       0.73      0.74      0.73       181\n",
      "weighted avg       0.75      0.75      0.75       181\n",
      "\n",
      "\n",
      "AUC Score: 0.7773\n",
      "ROC AUC: 0.7773\n"
     ]
    }
   ],
   "source": [
    "# Import additional metrics for ROC curve\n",
    "from sklearn.metrics import roc_curve, auc, roc_auc_score\n",
    "\n",
    "# Calculate detailed metrics\n",
    "accuracy = accuracy_score(all_targets, all_preds)\n",
    "print(f\"\\nFinal validation accuracy: {accuracy*100:.2f}%\")\n",
    "\n",
    "# Classification report\n",
    "print(\"\\nClassification Report:\")\n",
    "print(classification_report(all_targets, all_preds))\n",
    "\n",
    "# Convert probabilities to numpy array for easier handling\n",
    "all_probs = np.array(all_probs)\n",
    "all_targets = np.array(all_targets)\n",
    "all_preds = np.array(all_preds)\n",
    "\n",
    "# Calculate AUC for binary classification\n",
    "if len(np.unique(all_targets)) == 2:\n",
    "    # For binary classification, use probability of positive class (class 1)\n",
    "    y_scores = all_probs[:, 1]  # Probability of class 1\n",
    "    auc_score = roc_auc_score(all_targets, y_scores)\n",
    "    print(f\"\\nAUC Score: {auc_score:.4f}\")\n",
    "    \n",
    "    # Calculate ROC curve\n",
    "    fpr, tpr, thresholds = roc_curve(all_targets, y_scores)\n",
    "    roc_auc = auc(fpr, tpr)\n",
    "    print(f\"ROC AUC: {roc_auc:.4f}\")\n",
    "else:\n",
    "    print(\"Multi-class classification detected. Using macro-average AUC.\")\n",
    "    auc_score = roc_auc_score(all_targets, all_probs, multi_class='ovr', average='macro')\n",
    "    print(f\"Macro-average AUC: {auc_score:.4f}\")"
   ]
  },
  {
   "cell_type": "code",
   "execution_count": 70,
   "id": "fdd72a3c",
   "metadata": {},
   "outputs": [
    {
     "data": {
      "image/png": "[encoded data removed]",
      "text/plain": [
       "<Figure size 1200x500 with 2 Axes>"
      ]
     },
     "metadata": {},
     "output_type": "display_data"
    },
    {
     "name": "stdout",
     "output_type": "stream",
     "text": [
      "ROC curves saved\n"
     ]
    }
   ],
   "source": [
    "# Plot ROC Curve\n",
    "plt.figure(figsize=(12, 5))\n",
    "\n",
    "if len(np.unique(all_targets)) == 2:\n",
    "    # Binary classification ROC curve\n",
    "    plt.subplot(1, 2, 1)\n",
    "    \n",
    "    # Calculate ROC curve\n",
    "    fpr, tpr, thresholds = roc_curve(all_targets, y_scores)\n",
    "    roc_auc = auc(fpr, tpr)\n",
    "    \n",
    "    # Plot ROC curve\n",
    "    plt.plot(fpr, tpr, color='darkorange', lw=2, \n",
    "             label=f'ROC Curve (AUC = {roc_auc:.4f})')\n",
    "    plt.plot([0, 1], [0, 1], color='navy', lw=2, linestyle='--', \n",
    "             label='Random Classifier (AUC = 0.5)')\n",
    "    plt.xlim([0.0, 1.0])\n",
    "    plt.ylim([0.0, 1.05])\n",
    "    plt.xlabel('False Positive Rate')\n",
    "    plt.ylabel('True Positive Rate')\n",
    "    plt.title('Receiver Operating Characteristic (ROC) Curve')\n",
    "    plt.legend(loc=\"lower right\")\n",
    "    plt.grid(True, alpha=0.3)\n",
    "    \n",
    "    # Plot Precision-Recall curve as well\n",
    "    from sklearn.metrics import precision_recall_curve, average_precision_score\n",
    "    \n",
    "    plt.subplot(1, 2, 2)\n",
    "    precision, recall, _ = precision_recall_curve(all_targets, y_scores)\n",
    "    avg_precision = average_precision_score(all_targets, y_scores)\n",
    "    \n",
    "    plt.plot(recall, precision, color='blue', lw=2,\n",
    "             label=f'PR Curve (AP = {avg_precision:.4f})')\n",
    "    plt.xlabel('Recall')\n",
    "    plt.ylabel('Precision')\n",
    "    plt.title('Precision-Recall Curve')\n",
    "    plt.legend(loc=\"lower left\")\n",
    "    plt.grid(True, alpha=0.3)\n",
    "    \n",
    "else:\n",
    "    # Multi-class ROC curves\n",
    "    from sklearn.preprocessing import label_binarize\n",
    "    from itertools import cycle\n",
    "    \n",
    "    # Binarize the output\n",
    "    y_test_bin = label_binarize(all_targets, classes=np.unique(all_targets))\n",
    "    n_classes = y_test_bin.shape[1]\n",
    "    \n",
    "    # Compute ROC curve and ROC area for each class\n",
    "    fpr = dict()\n",
    "    tpr = dict()\n",
    "    roc_auc = dict()\n",
    "    \n",
    "    for i in range(n_classes):\n",
    "        fpr[i], tpr[i], _ = roc_curve(y_test_bin[:, i], all_probs[:, i])\n",
    "        roc_auc[i] = auc(fpr[i], tpr[i])\n",
    "    \n",
    "    # Plot ROC curves for each class\n",
    "    colors = cycle(['aqua', 'darkorange', 'cornflowerblue', 'red', 'green'])\n",
    "    for i, color in zip(range(n_classes), colors):\n",
    "        plt.plot(fpr[i], tpr[i], color=color, lw=2,\n",
    "                 label=f'ROC curve of class {i} (AUC = {roc_auc[i]:.2f})')\n",
    "    \n",
    "    plt.plot([0, 1], [0, 1], 'k--', lw=2)\n",
    "    plt.xlim([0.0, 1.0])\n",
    "    plt.ylim([0.0, 1.05])\n",
    "    plt.xlabel('False Positive Rate')\n",
    "    plt.ylabel('True Positive Rate')\n",
    "    plt.title('Multi-class ROC Curves')\n",
    "    plt.legend(loc=\"lower right\")\n",
    "    plt.grid(True, alpha=0.3)\n",
    "\n",
    "plt.tight_layout()\n",
    "plt.savefig(os.path.join(output_dir, 'roc_curves.png'), dpi=300, bbox_inches='tight')\n",
    "plt.show()\n",
    "\n",
    "print(\"ROC curves saved\")"
   ]
  },
  {
   "cell_type": "code",
   "execution_count": 71,
   "id": "96f545fb",
   "metadata": {},
   "outputs": [
    {
     "data": {
      "image/png": "[encoded data removed]",
      "text/plain": [
       "<Figure size 800x600 with 2 Axes>"
      ]
     },
     "metadata": {},
     "output_type": "display_data"
    },
    {
     "name": "stdout",
     "output_type": "stream",
     "text": [
      "Training completed, all results saved to: training_results/baseline_pet_2class\n",
      "Saved files include:\n",
      "- best_model.pth: Best model weights (based on ROC AUC)\n",
      "- training_curves.png: Training curves with AUC tracking\n",
      "- confusion_matrix.png: Confusion matrix plot\n",
      "- roc_curves.png: ROC and PR curves plot\n",
      "- training_history.json: Complete training history with AUC data\n",
      "\n",
      "🎯 Final Results Summary:\n",
      "========================================\n",
      "Best Validation ROC AUC: 0.7773\n",
      "Final Validation ROC AUC: 0.7773\n",
      "Final Validation Accuracy: 75.14%\n",
      "========================================\n"
     ]
    }
   ],
   "source": [
    "# Plot confusion matrix\n",
    "cm = confusion_matrix(all_targets, all_preds)\n",
    "plt.figure(figsize=(8, 6))\n",
    "sns.heatmap(cm, annot=True, fmt='d', cmap='Blues', \n",
    "            xticklabels=['Class 0', 'Class 1'], \n",
    "            yticklabels=['Class 0', 'Class 1'])\n",
    "plt.title('Confusion Matrix')\n",
    "plt.xlabel('Predicted Label')\n",
    "plt.ylabel('True Label')\n",
    "plt.savefig(os.path.join(output_dir, 'confusion_matrix.png'), dpi=300, bbox_inches='tight')\n",
    "plt.show()\n",
    "\n",
    "# Save comprehensive training history with AUC data only\n",
    "training_history = {\n",
    "    'train_losses': train_losses,\n",
    "    'train_aucs': train_aucs,      # 训练集AUC历史\n",
    "    'val_losses': val_losses,\n",
    "    'val_aucs': val_aucs,          # 验证集AUC历史\n",
    "    'learning_rates': learning_rates,\n",
    "    'final_auc_score': float(auc_score),  # 最终AUC分数\n",
    "    'best_val_auc': float(best_val_auc),  # 最佳验证AUC\n",
    "    'early_stopping_metric': 'ROC_AUC',  # 记录早停使用的指标\n",
    "    'early_stopping_patience': patience\n",
    "}\n",
    "\n",
    "import json\n",
    "with open(os.path.join(output_dir, 'training_history.json'), 'w') as f:\n",
    "    json.dump(training_history, f, indent=2)\n",
    "\n",
    "print(\"Training completed, all results saved to:\", output_dir)\n",
    "print(\"Saved files include:\")\n",
    "print(\"- best_model.pth: Best model weights (based on ROC AUC)\")\n",
    "print(\"- training_curves.png: Training curves with AUC tracking\")\n",
    "print(\"- confusion_matrix.png: Confusion matrix plot\")\n",
    "print(\"- roc_curves.png: ROC and PR curves plot\")\n",
    "print(\"- training_history.json: Complete training history with AUC data\")\n",
    "\n",
    "print(f\"\\n🎯 Final Results Summary:\")\n",
    "print(f\"{'='*40}\")\n",
    "print(f\"Best Validation ROC AUC: {best_val_auc:.4f}\")\n",
    "print(f\"Final Validation ROC AUC: {auc_score:.4f}\")\n",
    "print(f\"Final Validation Accuracy: {accuracy*100:.2f}%\")\n",
    "print(f\"{'='*40}\")"
   ]
  }
 ],
 "metadata": {
  "kernelspec": {
   "display_name": "totalseg",
   "language": "python",
   "name": "python3"
  },
  "language_info": {
   "codemirror_mode": {
    "name": "ipython",
    "version": 3
   },
   "file_extension": ".py",
   "mimetype": "text/x-python",
   "name": "python",
   "nbconvert_exporter": "python",
   "pygments_lexer": "ipython3",
   "version": "3.10.16"
  }
 },
 "nbformat": 4,
 "nbformat_minor": 5
}
